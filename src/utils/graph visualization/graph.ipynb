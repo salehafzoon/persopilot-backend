{
 "cells": [
  {
   "cell_type": "code",
   "execution_count": null,
   "id": "126005c1",
   "metadata": {},
   "outputs": [],
   "source": [
    "# pip install streamlit pyvis streamlit_jupyter"
   ]
  },
  {
   "cell_type": "code",
   "execution_count": 1,
   "id": "04c474c5",
   "metadata": {},
   "outputs": [
    {
     "ename": "AttributeError",
     "evalue": "module 'streamlit' has no attribute 'experimental_data_editor'",
     "output_type": "error",
     "traceback": [
      "\u001b[31m---------------------------------------------------------------------------\u001b[39m",
      "\u001b[31mAttributeError\u001b[39m                            Traceback (most recent call last)",
      "\u001b[36mCell\u001b[39m\u001b[36m \u001b[39m\u001b[32mIn[1]\u001b[39m\u001b[32m, line 2\u001b[39m\n\u001b[32m      1\u001b[39m \u001b[38;5;28;01mfrom\u001b[39;00m\u001b[38;5;250m \u001b[39m\u001b[34;01mstreamlit_jupyter\u001b[39;00m\u001b[38;5;250m \u001b[39m\u001b[38;5;28;01mimport\u001b[39;00m StreamlitPatcher, tqdm\n\u001b[32m----> \u001b[39m\u001b[32m2\u001b[39m \u001b[43mStreamlitPatcher\u001b[49m\u001b[43m(\u001b[49m\u001b[43m)\u001b[49m\u001b[43m.\u001b[49m\u001b[43mjupyter\u001b[49m\u001b[43m(\u001b[49m\u001b[43m)\u001b[49m  \u001b[38;5;66;03m# Enable notebook mode\u001b[39;00m\n\u001b[32m      4\u001b[39m \u001b[38;5;28;01mimport\u001b[39;00m\u001b[38;5;250m \u001b[39m\u001b[34;01mstreamlit\u001b[39;00m\u001b[38;5;250m \u001b[39m\u001b[38;5;28;01mas\u001b[39;00m\u001b[38;5;250m \u001b[39m\u001b[34;01mst\u001b[39;00m\n\u001b[32m      5\u001b[39m \u001b[38;5;28;01mimport\u001b[39;00m\u001b[38;5;250m \u001b[39m\u001b[34;01muuid\u001b[39;00m\n",
      "\u001b[36mFile \u001b[39m\u001b[32m~/Desktop/PersoChat Local/.venv/lib/python3.12/site-packages/streamlit_jupyter/core.py:53\u001b[39m, in \u001b[36mStreamlitPatcher.jupyter\u001b[39m\u001b[34m(self)\u001b[39m\n\u001b[32m     51\u001b[39m \u001b[38;5;66;03m# patch streamlit methods from MAPPING property dict\u001b[39;00m\n\u001b[32m     52\u001b[39m \u001b[38;5;28;01mfor\u001b[39;00m method_name, wrapper \u001b[38;5;129;01min\u001b[39;00m \u001b[38;5;28mself\u001b[39m.MAPPING.items():\n\u001b[32m---> \u001b[39m\u001b[32m53\u001b[39m     \u001b[38;5;28;43mself\u001b[39;49m\u001b[43m.\u001b[49m\u001b[43m_wrap\u001b[49m\u001b[43m(\u001b[49m\u001b[43mmethod_name\u001b[49m\u001b[43m,\u001b[49m\u001b[43m \u001b[49m\u001b[43mwrapper\u001b[49m\u001b[43m)\u001b[49m\n\u001b[32m     55\u001b[39m \u001b[38;5;28mself\u001b[39m.is_registered = \u001b[38;5;28;01mTrue\u001b[39;00m\n",
      "\u001b[36mFile \u001b[39m\u001b[32m~/Desktop/PersoChat Local/.venv/lib/python3.12/site-packages/streamlit_jupyter/core.py:79\u001b[39m, in \u001b[36m_wrap\u001b[39m\u001b[34m(cls, method_name, wrapper)\u001b[39m\n\u001b[32m     69\u001b[39m \u001b[38;5;250m\u001b[39m\u001b[33;03m\"\"\"make a streamlit method jupyter friendly\u001b[39;00m\n\u001b[32m     70\u001b[39m \n\u001b[32m     71\u001b[39m \u001b[33;03mParameters\u001b[39;00m\n\u001b[32m   (...)\u001b[39m\u001b[32m     76\u001b[39m \u001b[33;03m    wrapper function to use\u001b[39;00m\n\u001b[32m     77\u001b[39m \u001b[33;03m\"\"\"\u001b[39;00m\n\u001b[32m     78\u001b[39m \u001b[38;5;28;01mif\u001b[39;00m IN_IPYTHON:  \u001b[38;5;66;03m# only patch if in jupyter\u001b[39;00m\n\u001b[32m---> \u001b[39m\u001b[32m79\u001b[39m     trg = \u001b[38;5;28;43mgetattr\u001b[39;49m\u001b[43m(\u001b[49m\u001b[43mst\u001b[49m\u001b[43m,\u001b[49m\u001b[43m \u001b[49m\u001b[43mmethod_name\u001b[49m\u001b[43m)\u001b[49m  \u001b[38;5;66;03m# get the streamlit method\u001b[39;00m\n\u001b[32m     80\u001b[39m     \u001b[38;5;28msetattr\u001b[39m(st, method_name, wrapper(trg))  \u001b[38;5;66;03m# patch the method\u001b[39;00m\n\u001b[32m     81\u001b[39m     \u001b[38;5;28mcls\u001b[39m.registered_methods.add(method_name)\n",
      "\u001b[31mAttributeError\u001b[39m: module 'streamlit' has no attribute 'experimental_data_editor'"
     ]
    }
   ],
   "source": [
    "from streamlit_jupyter import StreamlitPatcher, tqdm\n",
    "StreamlitPatcher().jupyter()  # Enable notebook mode\n",
    "\n",
    "import streamlit as st\n",
    "import uuid\n",
    "\n",
    "# Page layout\n",
    "st.set_page_config(layout=\"wide\")\n",
    "st.title(\"🧠 Personalized LLM Chat with Real-Time Persona Graph\")\n",
    "\n",
    "# Session state\n",
    "if \"messages\" not in st.session_state:\n",
    "    st.session_state.messages = []\n",
    "if \"conv_id\" not in st.session_state:\n",
    "    st.session_state.conv_id = str(uuid.uuid4())\n",
    "\n",
    "# Layout: 3 columns\n",
    "col1, col2, col3 = st.columns([1, 2, 1])\n",
    "\n",
    "with col1:\n",
    "    st.subheader(\"🗂️ Conversations\")\n",
    "    st.button(\"🧵 Start New Conversation\", on_click=lambda: st.session_state.update({\"messages\": [], \"conv_id\": str(uuid.uuid4())}))\n",
    "    for i in range(3):\n",
    "        st.markdown(f\"- Conversation {i+1}\")\n",
    "\n",
    "with col2:\n",
    "    st.subheader(\"💬 Chat\")\n",
    "    for msg in st.session_state.messages:\n",
    "        st.chat_message(msg[\"role\"]).markdown(msg[\"content\"])\n",
    "\n",
    "    user_input = st.chat_input(\"Type your message...\")\n",
    "    if user_input:\n",
    "        st.session_state.messages.append({\"role\": \"user\", \"content\": user_input})\n",
    "        # Simulated reply\n",
    "        reply = f\"(Simulated) Thanks for saying: {user_input}\"\n",
    "        st.session_state.messages.append({\"role\": \"assistant\", \"content\": reply})\n",
    "\n",
    "with col3:\n",
    "    st.subheader(\"🧬 Real-Time Persona Graph\")\n",
    "    st.markdown(\"_Graph visual will appear here later..._\")\n"
   ]
  },
  {
   "cell_type": "code",
   "execution_count": null,
   "id": "c90ec2b7",
   "metadata": {},
   "outputs": [],
   "source": []
  }
 ],
 "metadata": {
  "kernelspec": {
   "display_name": "Python 3",
   "language": "python",
   "name": "python3"
  },
  "language_info": {
   "codemirror_mode": {
    "name": "ipython",
    "version": 3
   },
   "file_extension": ".py",
   "mimetype": "text/x-python",
   "name": "python",
   "nbconvert_exporter": "python",
   "pygments_lexer": "ipython3",
   "version": "3.11.13"
  }
 },
 "nbformat": 4,
 "nbformat_minor": 5
}
