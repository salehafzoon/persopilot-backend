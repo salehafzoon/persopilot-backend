{
 "cells": [
  {
   "cell_type": "markdown",
   "id": "6d3f0c76",
   "metadata": {},
   "source": [
    "# Installation"
   ]
  },
  {
   "cell_type": "code",
   "execution_count": null,
   "id": "fedb88e6",
   "metadata": {},
   "outputs": [],
   "source": [
    "# pip install torch transformers datasets dotenv scikit-learn tqdm matplotlib"
   ]
  },
  {
   "cell_type": "markdown",
   "id": "b3fa021c",
   "metadata": {},
   "source": [
    "# Persona Extractor"
   ]
  },
  {
   "cell_type": "markdown",
   "id": "aaccb4e6",
   "metadata": {},
   "source": [
    "## Pre Processing"
   ]
  },
  {
   "cell_type": "markdown",
   "id": "c9b9ffa0",
   "metadata": {},
   "source": [
    "Loads the dataset and extracts unique relation labels.\n",
    "\n",
    "Builds mappings (relation2id and id2relation) for training and decoding the relation classifier."
   ]
  },
  {
   "cell_type": "code",
   "execution_count": 1,
   "id": "13fb7654",
   "metadata": {},
   "outputs": [
    {
     "name": "stdout",
     "output_type": "stream",
     "text": [
      "Loaded 35077 examples with 105 relation types.\n",
      "\n",
      "First 10 relation labels:\n",
      " 0: allergy_to\n",
      " 1: attend_school\n",
      " 2: belief\n",
      " 3: collect\n",
      " 4: diet\n",
      " 5: dislike\n",
      " 6: dislike_activity\n",
      " 7: dislike_animal\n",
      " 8: dislike_color\n",
      " 9: dislike_drink\n"
     ]
    }
   ],
   "source": [
    "import json\n",
    "\n",
    "data_path = \"data/ConvAI2/u2t_map_all.json\"\n",
    "with open(data_path, \"r\") as f:\n",
    "    raw_data = json.load(f)\n",
    "\n",
    "\n",
    "# Extract all unique relations\n",
    "all_relations = sorted({ex[\"triplets\"][0][\"label\"] for ex in raw_data})     # like: ['favorite_movie', 'like_food', 'scared_of', ...]\n",
    "relation2id = {rel: i for i, rel in enumerate(all_relations)}               # For the encoding step \n",
    "id2relation = {i: rel for rel, i in relation2id.items()}                    # For the decoding step\n",
    "print(f\"Loaded {len(raw_data)} examples with {len(relation2id)} relation types.\\n\")\n",
    "\n",
    "print(\"First 10 relation labels:\")\n",
    "for i, rel in enumerate(all_relations[:10]):\n",
    "    print(f\"{i:>2}: {rel}\")\n"
   ]
  },
  {
   "cell_type": "markdown",
   "id": "b916d0b8",
   "metadata": {},
   "source": [
    "**BIO Tagging using head, relationship and tail ids:**\n",
    "\n",
    "B: Beginning, I: Inside, O: Outside.\n",
    "\n",
    "The output tags:\n",
    "\n",
    "- B-SUB: Beginning of the subject span\n",
    "\n",
    "- B-OBJ / I-OBJ: Beginning and inside of the object span\n",
    "\n",
    "- O: Tokens not relevant to the triplet\n",
    "\n",
    "Reference: https://arxiv.org/abs/cs/0306050"
   ]
  },
  {
   "cell_type": "code",
   "execution_count": 2,
   "id": "a57c073c",
   "metadata": {},
   "outputs": [
    {
     "name": "stdout",
     "output_type": "stream",
     "text": [
      "Sample BIO-formatted training example:\n",
      "\n",
      "{'labels': ['B-SUB', 'O', 'O', 'O', 'O', 'O', 'B-OBJ', 'O'],\n",
      " 'relation_label': 30,\n",
      " 'tokens': ['i', 'just', 'got', 'done', 'watching', 'a', 'horror', 'movie']}\n"
     ]
    }
   ],
   "source": [
    "def convert_to_bio(example):\n",
    "    triplet = example[\"triplets\"][0]\n",
    "    tokens = triplet[\"tokens\"]\n",
    "    head = triplet[\"head\"]\n",
    "    tail = triplet[\"tail\"]\n",
    "    relation = triplet[\"label\"]\n",
    "\n",
    "    labels = ['O'] * len(tokens)\n",
    "    for idx in head:\n",
    "        labels[idx] = 'B-SUB'\n",
    "    if isinstance(tail, list):\n",
    "        for i, idx in enumerate(tail):\n",
    "            labels[idx] = 'B-OBJ' if i == 0 else 'I-OBJ'\n",
    "\n",
    "    return {\n",
    "        \"tokens\": tokens,\n",
    "        \"labels\": labels,\n",
    "        \"relation_label\": relation2id[relation]\n",
    "    }\n",
    "\n",
    "bio_data = [convert_to_bio(ex) for ex in raw_data if \"triplets\" in ex and ex[\"triplets\"]]\n",
    "\n",
    "from pprint import pprint\n",
    "\n",
    "print(\"Sample BIO-formatted training example:\\n\")\n",
    "pprint(bio_data[0])\n"
   ]
  },
  {
   "cell_type": "markdown",
   "id": "c3046794",
   "metadata": {},
   "source": [
    "## Model Training"
   ]
  },
  {
   "cell_type": "code",
   "execution_count": 3,
   "id": "8d2d33ed",
   "metadata": {},
   "outputs": [],
   "source": [
    "MAX_LENGTH = 256\n",
    "BATCH_SIZE = 16\n",
    "EPOCHS = 10\n",
    "TRAIN_SPLIT = 0.8"
   ]
  },
  {
   "cell_type": "code",
   "execution_count": 4,
   "id": "e6628bec",
   "metadata": {},
   "outputs": [],
   "source": [
    "from torch.utils.data import Dataset, DataLoader, random_split\n",
    "from transformers import BertTokenizerFast, BertModel\n",
    "from transformers import  get_scheduler\n",
    "from torch.optim import AdamW\n",
    "from tqdm import tqdm\n",
    "from torch import nn\n",
    "import torch\n",
    "import os"
   ]
  },
  {
   "cell_type": "markdown",
   "id": "5dda43d3",
   "metadata": {},
   "source": [
    "This cell tokenizes each example using the BERT tokenizer and aligns word-level BIO labels with the resulting subword tokens. It also attaches the relation label as an integer, preparing the data for joint token and sentence-level classification.\n"
   ]
  },
  {
   "cell_type": "code",
   "execution_count": 5,
   "id": "5661afec",
   "metadata": {},
   "outputs": [],
   "source": [
    "tokenizer = BertTokenizerFast.from_pretrained(\"bert-base-uncased\")\n",
    "\n",
    "label_list = ['O', 'B-SUB', 'B-OBJ', 'I-OBJ']\n",
    "label2id = {label: i for i, label in enumerate(label_list)}\n",
    "id2label = {i: label for label, i in label2id.items()}\n",
    "\n",
    "def tokenize_and_align(example):\n",
    "    assert len(example[\"labels\"]) == len(example[\"tokens\"]), \"Token-label length mismatch\"\n",
    "\n",
    "    encoding = tokenizer(example[\"tokens\"], is_split_into_words=True, padding=\"max_length\", truncation=True, max_length=MAX_LENGTH)\n",
    "    word_ids = encoding.word_ids()\n",
    "\n",
    "    aligned_labels = []\n",
    "    prev_word_id = None\n",
    "    for word_id in word_ids:\n",
    "        if word_id is None:\n",
    "            aligned_labels.append(-100)\n",
    "        else:\n",
    "            aligned_labels.append(label2id[example[\"labels\"][word_id]])\n",
    "        prev_word_id = word_id\n",
    "\n",
    "    encoding[\"labels\"] = aligned_labels\n",
    "    encoding[\"relation_label\"] = example[\"relation_label\"]\n",
    "    return encoding\n",
    "\n",
    "tokenized_data = [tokenize_and_align(ex) for ex in bio_data]"
   ]
  },
  {
   "cell_type": "markdown",
   "id": "c405344c",
   "metadata": {},
   "source": [
    "Defines a PyTorch Dataset to wrap your tokenized input.\n",
    "\n",
    "Prepares DataLoaders for training and evaluation."
   ]
  },
  {
   "cell_type": "code",
   "execution_count": 6,
   "id": "06ce8105",
   "metadata": {},
   "outputs": [],
   "source": [
    "class JointPersonaDataset(Dataset):\n",
    "    def __init__(self, encodings):\n",
    "        self.data = encodings\n",
    "\n",
    "    def __len__(self):\n",
    "        return len(self.data)\n",
    "\n",
    "    def __getitem__(self, idx):\n",
    "        item = self.data[idx]\n",
    "        return {\n",
    "            \"input_ids\": torch.tensor(item[\"input_ids\"]),\n",
    "            \"attention_mask\": torch.tensor(item[\"attention_mask\"]),\n",
    "            \"labels\": torch.tensor(item[\"labels\"]),\n",
    "            \"relation_label\": torch.tensor(item[\"relation_label\"])\n",
    "        }\n",
    "\n",
    "dataset = JointPersonaDataset(tokenized_data)\n",
    "train_size = int(TRAIN_SPLIT * len(dataset))\n",
    "train_dataset, val_dataset = random_split(dataset, [train_size, len(dataset) - train_size])\n",
    "train_loader = DataLoader(train_dataset, batch_size= BATCH_SIZE, shuffle=True)\n",
    "val_loader = DataLoader(val_dataset, batch_size= BATCH_SIZE)"
   ]
  },
  {
   "cell_type": "markdown",
   "id": "6612100c",
   "metadata": {},
   "source": [
    "This model jointly performs:\n",
    "\n",
    "- Token classification (BIO tags for subject/object)\n",
    "\n",
    "- Sentence classification (relation type)\n",
    "\n",
    "It uses a single BERT encoder with two output heads."
   ]
  },
  {
   "cell_type": "code",
   "execution_count": 7,
   "id": "def39b57",
   "metadata": {},
   "outputs": [],
   "source": [
    "class JointBertExtractor(nn.Module):\n",
    "    def __init__(self, base_model='bert-base-uncased', num_token_labels=4, num_relation_labels=0):\n",
    "        super(JointBertExtractor, self).__init__()\n",
    "        self.bert = BertModel.from_pretrained(base_model)\n",
    "\n",
    "        self.dropout = nn.Dropout(0.1)\n",
    "        self.token_classifier = nn.Linear(self.bert.config.hidden_size, num_token_labels)\n",
    "        self.relation_classifier = nn.Linear(self.bert.config.hidden_size, num_relation_labels)\n",
    "\n",
    "    def forward(self, input_ids, attention_mask, labels=None, relation_label=None):\n",
    "        outputs = self.bert(input_ids=input_ids, attention_mask=attention_mask)\n",
    "        sequence_output = self.dropout(outputs.last_hidden_state)\n",
    "        cls_output = self.dropout(outputs.pooler_output)\n",
    "\n",
    "        token_logits = self.token_classifier(sequence_output)  # [batch_size, seq_len, num_token_labels]\n",
    "        relation_logits = self.relation_classifier(cls_output)  # [batch_size, num_relation_labels]\n",
    "\n",
    "        loss = None\n",
    "        if labels is not None and relation_label is not None:\n",
    "            loss_fct = nn.CrossEntropyLoss()\n",
    "            token_loss = loss_fct(token_logits.view(-1, token_logits.shape[-1]), labels.view(-1))\n",
    "            relation_loss = loss_fct(relation_logits, relation_label)\n",
    "            loss = token_loss + relation_loss\n",
    "\n",
    "        return {\n",
    "            \"loss\": loss,\n",
    "            \"token_logits\": token_logits,\n",
    "            \"relation_logits\": relation_logits\n",
    "        }"
   ]
  },
  {
   "cell_type": "code",
   "execution_count": 8,
   "id": "4664a7bd",
   "metadata": {},
   "outputs": [],
   "source": [
    "device = torch.device(\"cuda\" if torch.cuda.is_available() else \"cpu\")\n",
    "\n",
    "model = JointBertExtractor(\n",
    "    num_token_labels=len(label2id),\n",
    "    num_relation_labels=len(relation2id)\n",
    ").to(device)\n",
    "\n",
    "optimizer = torch.optim.AdamW(model.parameters(), lr=3e-5)\n",
    "num_epochs = EPOCHS\n",
    "num_training_steps = num_epochs * len(train_loader)\n",
    "\n",
    "lr_scheduler = get_scheduler(\n",
    "    \"linear\", optimizer=optimizer,\n",
    "    num_warmup_steps=0,\n",
    "    num_training_steps=num_training_steps\n",
    ")"
   ]
  },
  {
   "cell_type": "code",
   "execution_count": 9,
   "id": "f2a8e289",
   "metadata": {},
   "outputs": [],
   "source": [
    "from sklearn.metrics import f1_score\n",
    "import matplotlib.pyplot as plt\n",
    "\n",
    "def compute_token_f1(preds, labels):\n",
    "    true_labels = []\n",
    "    true_preds = []\n",
    "    for pred, label in zip(preds, labels):\n",
    "        for p, l in zip(pred, label):\n",
    "            if l != -100:\n",
    "                true_labels.append(l)\n",
    "                true_preds.append(p)\n",
    "    return f1_score(true_labels, true_preds, average=\"macro\")\n"
   ]
  },
  {
   "cell_type": "code",
   "execution_count": 10,
   "id": "20e417a4",
   "metadata": {},
   "outputs": [
    {
     "name": "stderr",
     "output_type": "stream",
     "text": [
      "                                                                        \r"
     ]
    },
    {
     "name": "stdout",
     "output_type": "stream",
     "text": [
      "[Epoch 1] Loss: 2.5851 | Val F1: 0.8154\n"
     ]
    },
    {
     "name": "stderr",
     "output_type": "stream",
     "text": [
      "                                                                        \r"
     ]
    },
    {
     "name": "stdout",
     "output_type": "stream",
     "text": [
      "[Epoch 2] Loss: 1.4134 | Val F1: 0.8382\n"
     ]
    },
    {
     "name": "stderr",
     "output_type": "stream",
     "text": [
      "                                                                        \r"
     ]
    },
    {
     "name": "stdout",
     "output_type": "stream",
     "text": [
      "[Epoch 3] Loss: 0.9163 | Val F1: 0.8496\n"
     ]
    },
    {
     "name": "stderr",
     "output_type": "stream",
     "text": [
      "                                                                        \r"
     ]
    },
    {
     "name": "stdout",
     "output_type": "stream",
     "text": [
      "[Epoch 4] Loss: 0.6168 | Val F1: 0.8600\n"
     ]
    },
    {
     "name": "stderr",
     "output_type": "stream",
     "text": [
      "                                                                         \r"
     ]
    },
    {
     "name": "stdout",
     "output_type": "stream",
     "text": [
      "[Epoch 5] Loss: 0.4287 | Val F1: 0.8648\n"
     ]
    },
    {
     "name": "stderr",
     "output_type": "stream",
     "text": [
      "                                                                         \r"
     ]
    },
    {
     "name": "stdout",
     "output_type": "stream",
     "text": [
      "[Epoch 6] Loss: 0.3000 | Val F1: 0.8696\n"
     ]
    },
    {
     "name": "stderr",
     "output_type": "stream",
     "text": [
      "                                                                         \r"
     ]
    },
    {
     "name": "stdout",
     "output_type": "stream",
     "text": [
      "[Epoch 7] Loss: 0.2117 | Val F1: 0.8732\n"
     ]
    },
    {
     "name": "stderr",
     "output_type": "stream",
     "text": [
      "                                                                         \r"
     ]
    },
    {
     "name": "stdout",
     "output_type": "stream",
     "text": [
      "[Epoch 8] Loss: 0.1575 | Val F1: 0.8775\n"
     ]
    },
    {
     "name": "stderr",
     "output_type": "stream",
     "text": [
      "                                                                         \r"
     ]
    },
    {
     "name": "stdout",
     "output_type": "stream",
     "text": [
      "[Epoch 9] Loss: 0.1185 | Val F1: 0.8785\n"
     ]
    },
    {
     "name": "stderr",
     "output_type": "stream",
     "text": [
      "                                                                          \r"
     ]
    },
    {
     "name": "stdout",
     "output_type": "stream",
     "text": [
      "[Epoch 10] Loss: 0.0975 | Val F1: 0.8803\n",
      "CPU times: user 36min 44s, sys: 9.22 s, total: 36min 53s\n",
      "Wall time: 36min 42s\n"
     ]
    }
   ],
   "source": [
    "%%time\n",
    "train_losses = []\n",
    "val_f1s = []\n",
    "\n",
    "for epoch in range(num_epochs):\n",
    "    model.train()\n",
    "    total_loss = 0\n",
    "    loop = tqdm(train_loader, desc=f\"Epoch {epoch+1}\", leave=False)\n",
    "\n",
    "    for batch in loop:\n",
    "        batch = {k: v.to(device) for k, v in batch.items()}\n",
    "        outputs = model(\n",
    "            input_ids=batch[\"input_ids\"],\n",
    "            attention_mask=batch[\"attention_mask\"],\n",
    "            labels=batch[\"labels\"],\n",
    "            relation_label=batch[\"relation_label\"]\n",
    "        )\n",
    "\n",
    "        loss = outputs[\"loss\"]\n",
    "        loss.backward()\n",
    "        optimizer.step()\n",
    "        lr_scheduler.step()\n",
    "        optimizer.zero_grad()\n",
    "        total_loss += loss.item()\n",
    "        loop.set_postfix(loss=loss.item())\n",
    "\n",
    "    avg_train_loss = total_loss / len(train_loader)\n",
    "    train_losses.append(avg_train_loss)\n",
    "\n",
    "    # Validation: token-level F1\n",
    "    model.eval()\n",
    "    val_preds, val_labels = [], []\n",
    "    with torch.no_grad():\n",
    "        for batch in val_loader:\n",
    "            batch = {k: v.to(device) for k, v in batch.items()}\n",
    "            outputs = model(\n",
    "                input_ids=batch[\"input_ids\"],\n",
    "                attention_mask=batch[\"attention_mask\"]\n",
    "            )\n",
    "            token_logits = outputs[\"token_logits\"]\n",
    "            preds = torch.argmax(token_logits, dim=-1)\n",
    "\n",
    "            val_preds.extend(preds.cpu().tolist())\n",
    "            val_labels.extend(batch[\"labels\"].cpu().tolist())\n",
    "\n",
    "    f1 = compute_token_f1(val_preds, val_labels)\n",
    "    val_f1s.append(f1)\n",
    "\n",
    "    tqdm.write(f\"[Epoch {epoch+1}] Loss: {avg_train_loss:.4f} | Val F1: {f1:.4f}\")\n"
   ]
  },
  {
   "cell_type": "code",
   "execution_count": 13,
   "id": "5abf2156",
   "metadata": {},
   "outputs": [
    {
     "data": {
      "image/png": "[encoded data removed]",
      "text/plain": [
       "<Figure size 800x500 with 1 Axes>"
      ]
     },
     "metadata": {},
     "output_type": "display_data"
    }
   ],
   "source": [
    "import os\n",
    "import matplotlib.pyplot as plt\n",
    "\n",
    "# Create and format the plot\n",
    "plt.figure(figsize=(8, 5))\n",
    "plt.plot(range(1, num_epochs + 1), train_losses, label=\"Train Loss\", marker='o')\n",
    "plt.plot(range(1, num_epochs + 1), val_f1s, label=\"Val Token F1\", marker='s')\n",
    "plt.xlabel(\"Epoch\", fontsize=12)\n",
    "plt.ylabel(\"Metric Value\", fontsize=12)\n",
    "plt.title(\"Training Loss and Validation F1\", fontsize=14)\n",
    "plt.legend()\n",
    "plt.grid(True)\n",
    "plt.tight_layout()\n",
    "\n",
    "# Save to PDF with proper formatting\n",
    "plt.savefig(\"Figures/loss_f1_plot.pdf\", format='pdf', dpi=300, bbox_inches='tight')\n",
    "\n",
    "# Also show inline\n",
    "plt.show()"
   ]
  },
  {
   "cell_type": "code",
   "execution_count": 12,
   "id": "2a15e253",
   "metadata": {},
   "outputs": [
    {
     "name": "stdout",
     "output_type": "stream",
     "text": [
      "Model saved to PExtractor\n"
     ]
    }
   ],
   "source": [
    "model_save_path = \"PExtractor\"\n",
    "tokenizer.save_pretrained(model_save_path)\n",
    "torch.save(model.state_dict(), os.path.join(model_save_path, \"pytorch_model.bin\"))\n",
    "print(f\"Model saved to {model_save_path}\")"
   ]
  },
  {
   "cell_type": "markdown",
   "id": "c5c4924b",
   "metadata": {},
   "source": [
    "## Model Testing"
   ]
  },
  {
   "cell_type": "code",
   "execution_count": null,
   "id": "a7cd9fb7",
   "metadata": {},
   "outputs": [],
   "source": [
    "from transformers import BertTokenizerFast, BertModel\n",
    "from torch import nn\n",
    "import torch"
   ]
  },
  {
   "cell_type": "code",
   "execution_count": null,
   "id": "8d02d119",
   "metadata": {},
   "outputs": [],
   "source": [
    "class JointBertExtractor(nn.Module):\n",
    "    def __init__(self, base_model='bert-base-uncased', num_token_labels=4, num_relation_labels=0):\n",
    "        super(JointBertExtractor, self).__init__()\n",
    "        self.bert = BertModel.from_pretrained(base_model)\n",
    "\n",
    "        self.dropout = nn.Dropout(0.1)\n",
    "        self.token_classifier = nn.Linear(self.bert.config.hidden_size, num_token_labels)\n",
    "        self.relation_classifier = nn.Linear(self.bert.config.hidden_size, num_relation_labels)\n",
    "\n",
    "    def forward(self, input_ids, attention_mask, labels=None, relation_label=None):\n",
    "        outputs = self.bert(input_ids=input_ids, attention_mask=attention_mask)\n",
    "        sequence_output = self.dropout(outputs.last_hidden_state)\n",
    "        cls_output = self.dropout(outputs.pooler_output)\n",
    "\n",
    "        token_logits = self.token_classifier(sequence_output)\n",
    "        relation_logits = self.relation_classifier(cls_output)\n",
    "\n",
    "        loss = None\n",
    "        if labels is not None and relation_label is not None:\n",
    "            loss_fct = nn.CrossEntropyLoss()\n",
    "            token_loss = loss_fct(token_logits.view(-1, token_logits.shape[-1]), labels.view(-1))\n",
    "            relation_loss = loss_fct(relation_logits, relation_label)\n",
    "            loss = token_loss + relation_loss\n",
    "\n",
    "        return {\n",
    "            \"loss\": loss,\n",
    "            \"token_logits\": token_logits,\n",
    "            \"relation_logits\": relation_logits\n",
    "        }\n"
   ]
  },
  {
   "cell_type": "code",
   "execution_count": null,
   "id": "69e7f46c",
   "metadata": {},
   "outputs": [],
   "source": [
    "model_path = \"PExtractor\"  # adjust if saved elsewhere\n",
    "device = torch.device(\"cuda\" if torch.cuda.is_available() else \"cpu\")\n",
    "\n",
    "tokenizer = BertTokenizerFast.from_pretrained(model_path)\n",
    "model = JointBertExtractor(num_token_labels=4, num_relation_labels=105)  # 105 = your # of relation classes\n",
    "model.load_state_dict(torch.load(f\"{model_path}/pytorch_model.bin\", map_location=device))\n",
    "model.to(device)\n",
    "model.eval()\n"
   ]
  },
  {
   "cell_type": "code",
   "execution_count": null,
   "id": "bd1e7746",
   "metadata": {},
   "outputs": [],
   "source": [
    "# Token-level labels\n",
    "label_list = ['O', 'B-SUB', 'B-OBJ', 'I-OBJ']\n",
    "id2label = {i: label for i, label in enumerate(label_list)}\n",
    "\n",
    "# Relation labels (recreate from training set)\n",
    "import json\n",
    "with open(\"data/ConvAI2/u2t_map_all.json\", \"r\") as f:\n",
    "    raw_data = json.load(f)\n",
    "relation_list = sorted({ex[\"triplets\"][0][\"label\"] for ex in raw_data})\n",
    "id2relation = {i: rel for i, rel in enumerate(relation_list)}\n"
   ]
  },
  {
   "cell_type": "code",
   "execution_count": null,
   "id": "3d514c18",
   "metadata": {},
   "outputs": [],
   "source": [
    "def extract_triplet_joint(sentence: str, model, tokenizer, id2label, id2relation, device=\"cpu\"):\n",
    "    model.eval()\n",
    "    inputs = tokenizer(sentence, return_tensors=\"pt\", truncation=True, padding=\"max_length\", max_length=128)\n",
    "    inputs = {k: v.to(device) for k, v in inputs.items()}\n",
    "\n",
    "    with torch.no_grad():\n",
    "        outputs = model(input_ids=inputs[\"input_ids\"], attention_mask=inputs[\"attention_mask\"])\n",
    "\n",
    "    token_preds = torch.argmax(outputs[\"token_logits\"], dim=-1).squeeze().cpu().tolist()\n",
    "    tokens_decoded = tokenizer.convert_ids_to_tokens(inputs[\"input_ids\"].squeeze())\n",
    "    attention_mask = inputs[\"attention_mask\"].squeeze().cpu().tolist()\n",
    "\n",
    "    subject = None\n",
    "    obj_tokens = []\n",
    "\n",
    "    for token, label_id, mask in zip(tokens_decoded, token_preds, attention_mask):\n",
    "        if mask == 0 or token in [\"[PAD]\", \"[CLS]\", \"[SEP]\"]:\n",
    "            continue  # skip padding tokens\n",
    "        label = id2label.get(label_id, \"O\")\n",
    "        if label == \"B-SUB\":\n",
    "            subject = token\n",
    "        elif label.startswith(\"B-OBJ\") or label.startswith(\"I-OBJ\"):\n",
    "            obj_tokens.append(token)\n",
    "\n",
    "\n",
    "    rel_pred_id = torch.argmax(outputs[\"relation_logits\"], dim=-1).item()\n",
    "    relation = id2relation[rel_pred_id]\n",
    "    object_str = tokenizer.convert_tokens_to_string(obj_tokens).strip()\n",
    "    subject = subject if subject else \"i\"\n",
    "\n",
    "    return (subject, relation, object_str)\n"
   ]
  },
  {
   "cell_type": "code",
   "execution_count": null,
   "id": "ecebddaa",
   "metadata": {},
   "outputs": [],
   "source": [
    "# test_sent = \"I used to play vollyball but now, i am playing soccer.\"\n",
    "\n",
    "# test_sent = \"I don’t enjoy horror movies as much as I used to.\"           # cond1\n",
    "\n",
    "# test_sent = \"My sister loves rom-coms, but I prefer horror movies.\"\n",
    "\n",
    "test_sent = \"My sister loves funny movies.\"                                   # cond2          \n",
    "\n",
    "# test_sent = \"His soul feeds on horror flicks and cold pizza.\"               # cond3\n",
    "\n",
    "s, r, o = extract_triplet_joint(test_sent, model, tokenizer, id2label, id2relation, device)\n",
    "print(f\"Extracted Triplet: ({s}, {r}, {o})\")"
   ]
  },
  {
   "cell_type": "code",
   "execution_count": null,
   "id": "46463d7c",
   "metadata": {},
   "outputs": [],
   "source": []
  }
 ],
 "metadata": {
  "kernelspec": {
   "display_name": "Python 3",
   "language": "python",
   "name": "python3"
  },
  "language_info": {
   "codemirror_mode": {
    "name": "ipython",
    "version": 3
   },
   "file_extension": ".py",
   "mimetype": "text/x-python",
   "name": "python",
   "nbconvert_exporter": "python",
   "pygments_lexer": "ipython3",
   "version": "3.11.13"
  }
 },
 "nbformat": 4,
 "nbformat_minor": 5
}
