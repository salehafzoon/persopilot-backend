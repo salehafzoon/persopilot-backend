{
 "cells": [
  {
   "cell_type": "code",
   "execution_count": null,
   "id": "126005c1",
   "metadata": {},
   "outputs": [],
   "source": [
    "# pip install streamlit pyvis streamlit_jupyter"
   ]
  },
  {
   "cell_type": "code",
   "execution_count": null,
   "id": "04c474c5",
   "metadata": {},
   "outputs": [],
   "source": [
    "from streamlit_jupyter import StreamlitPatcher, tqdm\n",
    "StreamlitPatcher().jupyter()  # Enable notebook mode\n",
    "\n",
    "import streamlit as st\n",
    "import uuid\n",
    "\n",
    "# Page layout\n",
    "st.set_page_config(layout=\"wide\")\n",
    "st.title(\"🧠 Personalized LLM Chat with Real-Time Persona Graph\")\n",
    "\n",
    "# Session state\n",
    "if \"messages\" not in st.session_state:\n",
    "    st.session_state.messages = []\n",
    "if \"conv_id\" not in st.session_state:\n",
    "    st.session_state.conv_id = str(uuid.uuid4())\n",
    "\n",
    "# Layout: 3 columns\n",
    "col1, col2, col3 = st.columns([1, 2, 1])\n",
    "\n",
    "with col1:\n",
    "    st.subheader(\"🗂️ Conversations\")\n",
    "    st.button(\"🧵 Start New Conversation\", on_click=lambda: st.session_state.update({\"messages\": [], \"conv_id\": str(uuid.uuid4())}))\n",
    "    for i in range(3):\n",
    "        st.markdown(f\"- Conversation {i+1}\")\n",
    "\n",
    "with col2:\n",
    "    st.subheader(\"💬 Chat\")\n",
    "    for msg in st.session_state.messages:\n",
    "        st.chat_message(msg[\"role\"]).markdown(msg[\"content\"])\n",
    "\n",
    "    user_input = st.chat_input(\"Type your message...\")\n",
    "    if user_input:\n",
    "        st.session_state.messages.append({\"role\": \"user\", \"content\": user_input})\n",
    "        # Simulated reply\n",
    "        reply = f\"(Simulated) Thanks for saying: {user_input}\"\n",
    "        st.session_state.messages.append({\"role\": \"assistant\", \"content\": reply})\n",
    "\n",
    "with col3:\n",
    "    st.subheader(\"🧬 Real-Time Persona Graph\")\n",
    "    st.markdown(\"_Graph visual will appear here later..._\")\n"
   ]
  },
  {
   "cell_type": "code",
   "execution_count": null,
   "id": "c90ec2b7",
   "metadata": {},
   "outputs": [],
   "source": []
  }
 ],
 "metadata": {
  "kernelspec": {
   "display_name": "Python 3",
   "language": "python",
   "name": "python3"
  },
  "language_info": {
   "codemirror_mode": {
    "name": "ipython",
    "version": 3
   },
   "file_extension": ".py",
   "mimetype": "text/x-python",
   "name": "python",
   "nbconvert_exporter": "python",
   "pygments_lexer": "ipython3",
   "version": "3.11.13"
  }
 },
 "nbformat": 4,
 "nbformat_minor": 5
}
