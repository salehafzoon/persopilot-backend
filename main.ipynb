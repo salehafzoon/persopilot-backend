{
 "cells": [
  {
   "cell_type": "markdown",
   "id": "405c5a93",
   "metadata": {},
   "source": [
    "# Installation"
   ]
  },
  {
   "cell_type": "code",
   "execution_count": null,
   "id": "0293a1e6",
   "metadata": {},
   "outputs": [],
   "source": [
    "# pip install -r requirements.txt"
   ]
  },
  {
   "cell_type": "markdown",
   "id": "1123d21b",
   "metadata": {},
   "source": [
    "# Tool usage test"
   ]
  },
  {
   "cell_type": "code",
   "execution_count": 1,
   "id": "83b56b7f",
   "metadata": {},
   "outputs": [],
   "source": [
    "import logging\n",
    "\n",
    "logger = logging.getLogger()\n",
    "logger.setLevel(logging.INFO)\n",
    "\n",
    "# Add console handler only if not already present\n",
    "if not logger.handlers:\n",
    "    handler = logging.StreamHandler()\n",
    "    handler.setLevel(logging.INFO)\n",
    "    formatter = logging.Formatter('%(levelname)s - %(message)s')\n",
    "    handler.setFormatter(formatter)\n",
    "    logger.addHandler(handler)"
   ]
  },
  {
   "cell_type": "markdown",
   "id": "8b27c39b",
   "metadata": {},
   "source": [
    "Persona Extractor"
   ]
  },
  {
   "cell_type": "code",
   "execution_count": 3,
   "id": "ac2a3ed7",
   "metadata": {},
   "outputs": [
    {
     "name": "stderr",
     "output_type": "stream",
     "text": [
      "Device set to use mps:0\n",
      "INFO - SQLitePersonaDB initialized\n",
      "INFO - [EXTRACTED] relation='favorite_food', object='pasta', topic='Skill', task='Lifestyle Optimization'\n",
      "INFO - Persona fact inserted for user user_41, task Lifestyle Optimization\n",
      "INFO - [SAVED TO DB] for username='user_41'\n"
     ]
    },
    {
     "name": "stdout",
     "output_type": "stream",
     "text": [
      "The persona has extracted. Just inform the user.\n"
     ]
    }
   ],
   "source": [
    "from src.tools.persona_extractor import get_persona_extractor_tool\n",
    "\n",
    "tool1 = get_persona_extractor_tool('user_41', 'Lifestyle Optimization')\n",
    "\n",
    "result1 = tool1.invoke({\"sentence\": \"I also like to eat pasta for dinner.\"})\n",
    "print(result1)"
   ]
  },
  {
   "cell_type": "markdown",
   "id": "de2d6be9",
   "metadata": {},
   "source": [
    "Community-based Recommender:"
   ]
  },
  {
   "cell_type": "code",
   "execution_count": 1,
   "id": "07e03480",
   "metadata": {},
   "outputs": [
    {
     "name": "stderr",
     "output_type": "stream",
     "text": [
      "INFO:persona_util:SQLitePersonaDB initialized\n",
      "INFO:src.tools.community_recommender:[TOOL INVOKED] Community recommender triggered with input: Can you provide community recommendations?\n"
     ]
    },
    {
     "name": "stdout",
     "output_type": "stream",
     "text": [
      "[TOOL RESULT]\n",
      "Type: Recommendation:\n",
      "Community suggestions for Content Consumption (from other users):\n",
      "- Book:\n",
      "  . reading graphic novels: liked by 5 users\n",
      "  . reading science fiction: liked by 5 users\n",
      "  . reading cookbooks: liked by 4 users\n",
      "  . reading mysteries: liked by 4 users\n",
      "- Game:\n",
      "  . card games: liked by 6 users\n",
      "  . strategy games: liked by 6 users\n",
      "  . arcade games: liked by 5 users\n",
      "  . role-playing games: liked by 5 users\n",
      "- Movie:\n",
      "  . watching animated movies: liked by 6 users\n",
      "  . watching fantasy movies: liked by 6 users\n",
      "  . watching historical dramas: liked by 6 users\n",
      "  . watching adventure movies: liked by 5 users\n",
      "- Music:\n",
      "  . hip hop music: liked by 6 users\n",
      "  . indie music: liked by 6 users\n",
      "  . reggae music: liked by 6 users\n",
      "  . blues music: liked by 5 users\n"
     ]
    }
   ],
   "source": [
    "from src.tools.community_recommender import create_community_recommender_tool\n",
    "\n",
    "tool2 = create_community_recommender_tool(username=\"user_41\", task=\"Content Consumption\")\n",
    "\n",
    "result2 = tool2.invoke({\"sentence\": \"Can you provide community recommendations?\"})\n",
    "print(result2)"
   ]
  },
  {
   "cell_type": "markdown",
   "id": "e24ee799",
   "metadata": {},
   "source": [
    "# Agent Testing"
   ]
  },
  {
   "cell_type": "code",
   "execution_count": null,
   "id": "77ba4d6f",
   "metadata": {},
   "outputs": [],
   "source": [
    "# pip install torch torchvision torchaudio --index-url https://download.pytorch.org/whl/cu121"
   ]
  },
  {
   "cell_type": "code",
   "execution_count": 1,
   "id": "96469ea9",
   "metadata": {},
   "outputs": [
    {
     "data": {
      "text/plain": [
       "'cpu'"
      ]
     },
     "execution_count": 1,
     "metadata": {},
     "output_type": "execute_result"
    }
   ],
   "source": [
    "import torch\n",
    "device = \"cuda\" if torch.cuda.is_available() else \"cpu\"\n",
    "device"
   ]
  },
  {
   "cell_type": "code",
   "execution_count": 2,
   "id": "f7118de0",
   "metadata": {},
   "outputs": [],
   "source": [
    "import logging\n",
    "\n",
    "logger = logging.getLogger()\n",
    "logger.setLevel(logging.INFO)\n",
    "\n",
    "\n",
    "# Add console handler\n",
    "handler = logging.StreamHandler()\n",
    "handler.setLevel(logging.INFO)\n",
    "formatter = logging.Formatter('%(levelname)s - %(message)s')\n",
    "handler.setFormatter(formatter)\n",
    "logger.addHandler(handler)"
   ]
  },
  {
   "cell_type": "code",
   "execution_count": 3,
   "id": "4a7dbeb9",
   "metadata": {},
   "outputs": [
    {
     "data": {
      "text/plain": [
       "True"
      ]
     },
     "execution_count": 3,
     "metadata": {},
     "output_type": "execute_result"
    }
   ],
   "source": [
    "from dotenv import load_dotenv\n",
    "load_dotenv() "
   ]
  },
  {
   "cell_type": "code",
   "execution_count": 4,
   "id": "6f97b063",
   "metadata": {},
   "outputs": [
    {
     "name": "stderr",
     "output_type": "stream",
     "text": [
      "INFO - SQLitePersonaDB initialized\n",
      "INFO - User created: user_41\n"
     ]
    },
    {
     "name": "stdout",
     "output_type": "stream",
     "text": [
      "Content Consumption\n"
     ]
    },
    {
     "data": {
      "text/plain": [
       "'User user_41 preferences for Content Consumption: | Book: likes reading novels | Game: plays video games | Movie: likes watching sci-fi | Music: likes classical music'"
      ]
     },
     "execution_count": 4,
     "metadata": {},
     "output_type": "execute_result"
    }
   ],
   "source": [
    "from src.utils.persona_util import SQLitePersonaDB\n",
    "db = SQLitePersonaDB()\n",
    "\n",
    "USERNAME = \"user_41\"\n",
    "\n",
    "db.create_user(USERNAME, 'Sali A', 28, 'male', 'user')\n",
    "\n",
    "USER = db.get_user(USERNAME)\n",
    "\n",
    "task_list = [f\"{task['name']}\" for task in db.get_all_tasks()]\n",
    "\n",
    "TASK = task_list[0]\n",
    "print(TASK)\n",
    "\n",
    "USER_PERSONA = db.get_user_persona_summary_by_task('user_01', TASK)\n",
    "USER_PERSONA = USER_PERSONA.replace('user_01', USERNAME)\n",
    "\n",
    "USER_PERSONA"
   ]
  },
  {
   "cell_type": "markdown",
   "id": "1bcf8384",
   "metadata": {},
   "source": [
    "## OpenAI Agent"
   ]
  },
  {
   "cell_type": "code",
   "execution_count": 5,
   "id": "1bb97e75",
   "metadata": {},
   "outputs": [
    {
     "name": "stderr",
     "output_type": "stream",
     "text": [
      "INFO - Initializing PersoAgent for user: {'username': 'user_41', 'full_name': 'Sali A', 'age': 28, 'gender': 'male', 'role': 'user'} with task: Content Consumption\n",
      "Device set to use mps:0\n",
      "INFO - SQLitePersonaDB initialized\n",
      "INFO - SQLitePersonaDB initialized\n"
     ]
    }
   ],
   "source": [
    "from src.agents.PersoAgent import PersoAgent\n",
    "\n",
    "agent = PersoAgent(\n",
    "    user = USER,\n",
    "    task = TASK,\n",
    "    prev_personas = USER_PERSONA\n",
    ")"
   ]
  },
  {
   "cell_type": "code",
   "execution_count": 6,
   "id": "7c740ce2",
   "metadata": {},
   "outputs": [
    {
     "name": "stdout",
     "output_type": "stream",
     "text": [
      "\n",
      "\n",
      "\u001b[1m> Entering new AgentExecutor chain...\u001b[0m\n"
     ]
    },
    {
     "name": "stderr",
     "output_type": "stream",
     "text": [
      "INFO - HTTP Request: POST https://api.openai.com/v1/chat/completions \"HTTP/1.1 200 OK\"\n"
     ]
    },
    {
     "name": "stdout",
     "output_type": "stream",
     "text": [
      "\u001b[32;1m\u001b[1;3m\n",
      "Invoking: `PersonaExtractor` with `{'sentence': 'I enjoy horror movies.'}`\n",
      "\n",
      "\n",
      "\u001b[0m"
     ]
    },
    {
     "name": "stderr",
     "output_type": "stream",
     "text": [
      "INFO - [EXTRACTED] relation='favorite_movie', object='horror', topic='Movie', task='Content Consumption'\n",
      "INFO - Persona fact inserted for user user_41, task Content Consumption\n",
      "INFO - [SAVED TO DB] for username='user_41'\n"
     ]
    },
    {
     "name": "stdout",
     "output_type": "stream",
     "text": [
      "\u001b[36;1m\u001b[1;3m[EXTRACTED] relation='favorite_movie', object='horror', topic='Movie', task='Content Consumption'\u001b[0m"
     ]
    },
    {
     "name": "stderr",
     "output_type": "stream",
     "text": [
      "INFO - HTTP Request: POST https://api.openai.com/v1/chat/completions \"HTTP/1.1 200 OK\"\n"
     ]
    },
    {
     "name": "stdout",
     "output_type": "stream",
     "text": [
      "\u001b[32;1m\u001b[1;3m{\n",
      "    \"response\": \"It's great to know that you enjoy horror movies! If you're looking for recommendations in this genre, feel free to ask.\",\n",
      "    \"reason\": \"Acknowledging the user's preference for horror movies and offering assistance in finding recommendations.\",\n",
      "    \"used_tool\": \"PersonaExtractor\"\n",
      "}\n",
      "I see that you enjoy horror movies! If you're looking for recommendations in this genre, feel free to ask.\u001b[0m\n",
      "\n",
      "\u001b[1m> Finished chain.\u001b[0m\n",
      "{\n",
      "    \"response\": \"It's great to know that you enjoy horror movies! If you're looking for recommendations in this genre, feel free to ask.\",\n",
      "    \"reason\": \"Acknowledging the user's preference for horror movies and offering assistance in finding recommendations.\",\n",
      "    \"used_tool\": \"PersonaExtractor\"\n",
      "}\n",
      "I see that you enjoy horror movies! If you're looking for recommendations in this genre, feel free to ask.\n"
     ]
    }
   ],
   "source": [
    "# Simple invocation - just pass the task\n",
    "response = agent.handle_task(\"I also enjoy horror movies.\")\n",
    "\n",
    "print(response)"
   ]
  },
  {
   "cell_type": "code",
   "execution_count": 7,
   "id": "468086df",
   "metadata": {},
   "outputs": [
    {
     "name": "stdout",
     "output_type": "stream",
     "text": [
      "\n",
      "\n",
      "\u001b[1m> Entering new AgentExecutor chain...\u001b[0m\n"
     ]
    },
    {
     "name": "stderr",
     "output_type": "stream",
     "text": [
      "INFO - HTTP Request: POST https://api.openai.com/v1/chat/completions \"HTTP/1.1 200 OK\"\n",
      "INFO - [TOOL INVOKED] Community recommender triggered with input: Can you provide community recommendations?\n"
     ]
    },
    {
     "name": "stdout",
     "output_type": "stream",
     "text": [
      "\u001b[32;1m\u001b[1;3m\n",
      "Invoking: `CommunityRecommender` with `{'sentence': 'Can you provide community recommendations?'}`\n",
      "\n",
      "\n",
      "\u001b[0m\u001b[33;1m\u001b[1;3m[TOOL RESULT]\n",
      "Type: Recommendation:\n",
      "Community suggestions for Content Consumption (from other users):\n",
      "- Book:\n",
      "  . reading graphic novels: liked by 5 users\n",
      "  . reading science fiction: liked by 5 users\n",
      "  . reading cookbooks: liked by 4 users\n",
      "- Game:\n",
      "  . card games: liked by 6 users\n",
      "  . strategy games: liked by 6 users\n",
      "  . arcade games: liked by 5 users\n",
      "- Movie:\n",
      "  . watching animated movies: liked by 6 users\n",
      "  . watching fantasy movies: liked by 6 users\n",
      "  . watching historical dramas: liked by 6 users\n",
      "- Music:\n",
      "  . hip hop music: liked by 6 users\n",
      "  . indie music: liked by 6 users\n",
      "  . reggae music: liked by 6 users\u001b[0m"
     ]
    },
    {
     "name": "stderr",
     "output_type": "stream",
     "text": [
      "INFO - HTTP Request: POST https://api.openai.com/v1/chat/completions \"HTTP/1.1 200 OK\"\n"
     ]
    },
    {
     "name": "stdout",
     "output_type": "stream",
     "text": [
      "\u001b[32;1m\u001b[1;3m{\n",
      "    \"response\": \"Here are some community recommendations for Content Consumption:\",\n",
      "    \"reason\": \"Providing community-based recommendations based on what other users prefer.\",\n",
      "    \"used_tool\": \"CommunityRecommender\"\n",
      "}\u001b[0m\n",
      "\n",
      "\u001b[1m> Finished chain.\u001b[0m\n",
      "{\n",
      "    \"response\": \"Here are some community recommendations for Content Consumption:\",\n",
      "    \"reason\": \"Providing community-based recommendations based on what other users prefer.\",\n",
      "    \"used_tool\": \"CommunityRecommender\"\n",
      "}\n"
     ]
    }
   ],
   "source": [
    "response = agent.handle_task(\"Can you provide community recommendations?\")\n",
    "\n",
    "print(response)"
   ]
  },
  {
   "cell_type": "code",
   "execution_count": 8,
   "id": "ba5a0242",
   "metadata": {},
   "outputs": [
    {
     "name": "stdout",
     "output_type": "stream",
     "text": [
      "\n",
      "\n",
      "\u001b[1m> Entering new AgentExecutor chain...\u001b[0m\n"
     ]
    },
    {
     "name": "stderr",
     "output_type": "stream",
     "text": [
      "INFO - HTTP Request: POST https://api.openai.com/v1/chat/completions \"HTTP/1.1 200 OK\"\n",
      "INFO - [TOOL INVOKED] Community recommender triggered with input: Which movies should I watch tonight?\n"
     ]
    },
    {
     "name": "stdout",
     "output_type": "stream",
     "text": [
      "\u001b[32;1m\u001b[1;3m\n",
      "Invoking: `CommunityRecommender` with `{'sentence': 'Which movies should I watch tonight?'}`\n",
      "\n",
      "\n",
      "\u001b[0m\u001b[33;1m\u001b[1;3m[TOOL RESULT]\n",
      "Type: Recommendation:\n",
      "Community suggestions for Content Consumption (from other users):\n",
      "- Book:\n",
      "  . reading graphic novels: liked by 5 users\n",
      "  . reading science fiction: liked by 5 users\n",
      "  . reading cookbooks: liked by 4 users\n",
      "- Game:\n",
      "  . card games: liked by 6 users\n",
      "  . strategy games: liked by 6 users\n",
      "  . arcade games: liked by 5 users\n",
      "- Movie:\n",
      "  . watching animated movies: liked by 6 users\n",
      "  . watching fantasy movies: liked by 6 users\n",
      "  . watching historical dramas: liked by 6 users\n",
      "- Music:\n",
      "  . hip hop music: liked by 6 users\n",
      "  . indie music: liked by 6 users\n",
      "  . reggae music: liked by 6 users\u001b[0m"
     ]
    },
    {
     "name": "stderr",
     "output_type": "stream",
     "text": [
      "INFO - HTTP Request: POST https://api.openai.com/v1/chat/completions \"HTTP/1.1 200 OK\"\n"
     ]
    },
    {
     "name": "stdout",
     "output_type": "stream",
     "text": [
      "\u001b[32;1m\u001b[1;3m{\n",
      "    \"response\": \"You should consider watching animated movies, fantasy movies, or historical dramas tonight.\",\n",
      "    \"reason\": \"Based on community recommendations for movies, these genres are popular among other users.\",\n",
      "    \"used_tool\": \"CommunityRecommender\"\n",
      "}\u001b[0m\n",
      "\n",
      "\u001b[1m> Finished chain.\u001b[0m\n",
      "{\n",
      "    \"response\": \"You should consider watching animated movies, fantasy movies, or historical dramas tonight.\",\n",
      "    \"reason\": \"Based on community recommendations for movies, these genres are popular among other users.\",\n",
      "    \"used_tool\": \"CommunityRecommender\"\n",
      "}\n"
     ]
    }
   ],
   "source": [
    "# Simple invocation - just pass the task\n",
    "response = agent.handle_task(\"So, which movies should I watch tonight?\")\n",
    "\n",
    "print(response)"
   ]
  },
  {
   "cell_type": "code",
   "execution_count": null,
   "id": "4514e823",
   "metadata": {},
   "outputs": [],
   "source": []
  }
 ],
 "metadata": {
  "kernelspec": {
   "display_name": ".venv",
   "language": "python",
   "name": "python3"
  },
  "language_info": {
   "codemirror_mode": {
    "name": "ipython",
    "version": 3
   },
   "file_extension": ".py",
   "mimetype": "text/x-python",
   "name": "python",
   "nbconvert_exporter": "python",
   "pygments_lexer": "ipython3",
   "version": "3.12.11"
  }
 },
 "nbformat": 4,
 "nbformat_minor": 5
}
