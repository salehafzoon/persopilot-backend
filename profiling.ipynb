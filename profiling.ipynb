{
 "cells": [
  {
   "cell_type": "code",
   "execution_count": null,
   "id": "1b9006f6",
   "metadata": {},
   "outputs": [],
   "source": [
    "# pip install neo4j yfiles_jupyter_graphs graphdatascience"
   ]
  },
  {
   "cell_type": "code",
   "execution_count": 5,
   "id": "9c7731ff",
   "metadata": {},
   "outputs": [],
   "source": [
    "from neo4j import GraphDatabase\n",
    "from dotenv import load_dotenv\n",
    "import os\n",
    "\n",
    "class PersonaGraphDB:\n",
    "    def __init__(self):\n",
    "        load_dotenv()\n",
    "        uri = os.getenv(\"NEO4J_URI\")\n",
    "        user = os.getenv(\"NEO4J_USER\")\n",
    "        password = os.getenv(\"NEO4J_PASSWORD\")\n",
    "        self.driver = GraphDatabase.driver(uri, auth=(user, password))\n",
    "\n",
    "    def close(self):\n",
    "        self.driver.close()\n",
    "\n",
    "    def clear_database(self):\n",
    "        with self.driver.session() as session:\n",
    "            session.run(\"MATCH (n) DETACH DELETE n\")\n",
    "\n",
    "    def create_user_node(self, user_id):\n",
    "        query = \"MERGE (:User {id: $user_id})\"\n",
    "        with self.driver.session() as session:\n",
    "            session.run(query, user_id=user_id)\n",
    "\n",
    "    def create_conversation_node(self, conv_id, user_id):\n",
    "        query = \"\"\"\n",
    "        MERGE (c:Conversation {id: $conv_id})\n",
    "        WITH c\n",
    "        MATCH (u:User {id: $user_id})\n",
    "        MERGE (u)-[:STARTED]->(c)\n",
    "        \"\"\"\n",
    "        with self.driver.session() as session:\n",
    "            session.run(query, user_id=user_id, conv_id=conv_id)\n",
    "\n",
    "    def insert_persona_fact(self, user_id, conv_id, triplet, topic):\n",
    "        s, r, o = triplet\n",
    "        query = \"\"\"\n",
    "        // Ensure subject and object nodes\n",
    "        MERGE (sub:Subject {name: $s})\n",
    "        MERGE (obj:Object {name: $o})\n",
    "        \n",
    "        // Create relation edge\n",
    "        MERGE (sub)-[rel:RELATION {type: $r}]->(obj)\n",
    "\n",
    "        // Ensure topic and conversation\n",
    "        MERGE (t:Topic {name: $topic})\n",
    "        MERGE (c:Conversation {id: $conv_id})\n",
    "        MERGE (c)-[:MENTIONED]->(t)\n",
    "\n",
    "        // Connect topic to subject and object\n",
    "        MERGE (t)-[:HAS]->(sub)\n",
    "        MERGE (t)-[:HAS]->(obj)\n",
    "        \"\"\"\n",
    "        with self.driver.session() as session:\n",
    "            session.run(query, s=s, r=r, o=o, topic=topic, conv_id=conv_id, user_id=user_id)\n"
   ]
  },
  {
   "cell_type": "code",
   "execution_count": 6,
   "id": "91f6c975",
   "metadata": {},
   "outputs": [
    {
     "name": "stdout",
     "output_type": "stream",
     "text": [
      "✅ Test insertion completed successfully.\n"
     ]
    }
   ],
   "source": [
    "from uuid import uuid4\n",
    "# from persona_graph_db import PersonaGraphDB  # Assume you saved the class as persona_graph_db.py\n",
    "\n",
    "# 1. Initialize and clear DB\n",
    "db = PersonaGraphDB()\n",
    "db.clear_database()\n",
    "\n",
    "# 2. Create a test user and conversation\n",
    "user_id = \"user_001\"\n",
    "conv_id = str(uuid4())  # simulate a unique conversation ID\n",
    "db.create_user_node(user_id)\n",
    "db.create_conversation_node(conv_id, user_id)\n",
    "\n",
    "# 3. Create synthetic persona triplets with topics\n",
    "test_triplets = [\n",
    "    (\"I\", \"like_watching\", \"horror\"),          # topic: movies\n",
    "    (\"I\", \"enjoy\", \"sci-fi\"),                  # topic: movies\n",
    "    (\"I\", \"own\", \"golden retriever\"),          # topic: pets\n",
    "    (\"I\", \"prefer\", \"tea\"),                    # topic: preferences\n",
    "    (\"I\", \"play\", \"guitar\"),                   # topic: hobbies\n",
    "]\n",
    "\n",
    "# 4. Insert each into Neo4j\n",
    "for triplet, topic in zip(test_triplets, [\"movies\", \"movies\", \"pets\", \"preferences\", \"hobbies\"]):\n",
    "    db.insert_persona_fact(user_id, conv_id, triplet, topic)\n",
    "\n",
    "print(\"✅ Test insertion completed successfully.\")\n",
    "\n",
    "# 5. Close connection\n",
    "db.close()\n"
   ]
  },
  {
   "cell_type": "code",
   "execution_count": null,
   "id": "3acb6e02",
   "metadata": {},
   "outputs": [],
   "source": []
  }
 ],
 "metadata": {
  "kernelspec": {
   "display_name": "Python 3",
   "language": "python",
   "name": "python3"
  },
  "language_info": {
   "codemirror_mode": {
    "name": "ipython",
    "version": 3
   },
   "file_extension": ".py",
   "mimetype": "text/x-python",
   "name": "python",
   "nbconvert_exporter": "python",
   "pygments_lexer": "ipython3",
   "version": "3.11.13"
  }
 },
 "nbformat": 4,
 "nbformat_minor": 5
}
